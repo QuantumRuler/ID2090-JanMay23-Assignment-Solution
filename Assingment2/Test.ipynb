{
 "cells": [
  {
   "cell_type": "code",
   "execution_count": 2,
   "id": "5b192f13",
   "metadata": {},
   "outputs": [
    {
     "data": {
      "image/png": "[encoded data removed]",
      "text/plain": [
       "<Figure size 576x432 with 1 Axes>"
      ]
     },
     "metadata": {
      "needs_background": "light"
     },
     "output_type": "display_data"
    }
   ],
   "source": [
    "import numpy as np\n",
    "import matplotlib.pyplot as plt\n",
    "\n",
    "def f(x):\n",
    "    return x**5 - 13*x**3 - x**2 + 10*x + 170\n",
    "\n",
    "# Generate x values\n",
    "x = np.linspace(-10, 10, 500)\n",
    "\n",
    "# Evaluate y values\n",
    "y = f(x)\n",
    "\n",
    "# Create the plot\n",
    "plt.figure(figsize=(8, 6))\n",
    "plt.plot(x, y, label='f(x) = x^5 - 13x^3 - x^2 + 10x + 170')\n",
    "plt.xlabel('x')\n",
    "plt.ylabel('f(x)')\n",
    "plt.title('Plot of the Function f(x)')\n",
    "plt.axhline(0, color='black', linewidth=0.5)  # Horizontal line at y=0\n",
    "plt.axvline(0, color='black', linewidth=0.5)  # Vertical line at x=0\n",
    "plt.legend()\n",
    "plt.grid(True)\n",
    "plt.show()\n"
   ]
  },
  {
   "cell_type": "code",
   "execution_count": 2,
   "id": "76f0abf1",
   "metadata": {},
   "outputs": [
    {
     "name": "stdout",
     "output_type": "stream",
     "text": [
      "Roots: [CRootOf(x**5 - 13*x**3 - x**2 + 10*x + 170, 0), CRootOf(x**5 - 13*x**3 - x**2 + 10*x + 170, 1), CRootOf(x**5 - 13*x**3 - x**2 + 10*x + 170, 2), CRootOf(x**5 - 13*x**3 - x**2 + 10*x + 170, 3), CRootOf(x**5 - 13*x**3 - x**2 + 10*x + 170, 4)]\n"
     ]
    }
   ],
   "source": [
    "import sympy as sp\n",
    "\n",
    "# Define the symbol x\n",
    "x = sp.symbols('x')\n",
    "\n",
    "# Define the function g(x) = f(x)\n",
    "g = x**5 - 13*x**3 - x**2 + 10*x + 170\n",
    "\n",
    "# Find the roots symbolically\n",
    "roots = sp.solve(g, x)\n",
    "\n",
    "# Print the roots\n",
    "print(\"Roots:\", roots)\n"
   ]
  },
  {
   "cell_type": "code",
   "execution_count": 5,
   "id": "c8c6fbc1",
   "metadata": {},
   "outputs": [
    {
     "data": {
      "image/png": "[encoded data removed]",
      "text/plain": [
       "<Figure size 576x432 with 1 Axes>"
      ]
     },
     "metadata": {
      "needs_background": "light"
     },
     "output_type": "display_data"
    }
   ],
   "source": [
    "import matplotlib.pyplot as plt\n",
    "\n",
    "# Calculate the coefficients of the polynomial\n",
    "coefficients = [1, -13, -1, 10, 170]\n",
    "\n",
    "# Find the Gerschgorin Circles\n",
    "circles = []\n",
    "for i in range(len(coefficients) - 1):\n",
    "    circle_center = -coefficients[i] / coefficients[-1]\n",
    "    circle_radius = sum(map(abs, coefficients[:-1])) / abs(coefficients[-1])\n",
    "    circles.append((circle_center, circle_radius))\n",
    "\n",
    "# Plot the Gerschgorin Circles\n",
    "plt.figure(figsize=(8, 6))\n",
    "for center, radius in circles:\n",
    "    plt.plot(center, 0, 'ro')\n"
   ]
  },
  {
   "cell_type": "code",
   "execution_count": null,
   "id": "131b8a18",
   "metadata": {},
   "outputs": [],
   "source": [
    "import numpy as np\n",
    "import matplotlib.pyplot as plt\n",
    "\n",
    "# Define the function\n",
    "def f(x):\n",
    "    return x**5 - 13*x**3 - x**2 + 10*x + 170\n",
    "\n",
    "# Create x values for plotting\n",
    "x = np.linspace(-5, 5, 1000)\n",
    "\n",
    "# Plot the function\n",
    "plt.plot(x, f(x), label='f(x) = x^5 - 13x^3 - x^2 + 10x + 170')\n",
    "\n",
    "# Add axes labels and title\n",
    "plt.xlabel('x')\n",
    "plt.ylabel('f(x)')\n",
    "plt.title('Plot of the Function f(x)')\n",
    "\n",
    "# Add Gerschgorin Circles\n",
    "circles = [(1, 15), (-3, 15), (-1, 15), (-0.5, 15)]\n",
    "colors = ['r', 'g', 'b', 'm']\n",
    "\n",
    "for circle, color in zip(circles, colors):\n",
    "    circle_x = np.linspace(circle[0] - circle[1], circle[0] + circle[1], 100)\n",
    "    circle_y = np.sqrt(circle[1]**2 - (circle_x - circle[0])**2)\n",
    "    plt.plot(circle_x, circle_y, color)\n",
    "    plt.plot(circle_x, -circle_y, color)\n",
    "\n",
    "# Add legend\n",
    "plt.legend()\n",
    "\n",
    "# Show the plot\n",
    "plt.show()\n"
   ]
  },
  {
   "cell_type": "code",
   "execution_count": 1,
   "id": "67d85111",
   "metadata": {},
   "outputs": [
    {
     "ename": "TypeError",
     "evalue": "bad operand type for unary -: 'list'",
     "output_type": "error",
     "traceback": [
      "\u001b[0;31m---------------------------------------------------------------------------\u001b[0m",
      "\u001b[0;31mTypeError\u001b[0m                                 Traceback (most recent call last)",
      "\u001b[0;32m/tmp/ipykernel_2397/978896060.py\u001b[0m in \u001b[0;36m<module>\u001b[0;34m\u001b[0m\n\u001b[1;32m     20\u001b[0m \u001b[0mconstants\u001b[0m \u001b[0;34m=\u001b[0m \u001b[0;34m[\u001b[0m\u001b[0;36m4\u001b[0m\u001b[0;34m,\u001b[0m \u001b[0;36m3\u001b[0m\u001b[0;34m,\u001b[0m \u001b[0;36m1\u001b[0m\u001b[0;34m]\u001b[0m\u001b[0;34m\u001b[0m\u001b[0;34m\u001b[0m\u001b[0m\n\u001b[1;32m     21\u001b[0m \u001b[0;34m\u001b[0m\u001b[0m\n\u001b[0;32m---> 22\u001b[0;31m \u001b[0mcircles\u001b[0m \u001b[0;34m=\u001b[0m \u001b[0mgerschgorin_circles\u001b[0m\u001b[0;34m(\u001b[0m\u001b[0mequations\u001b[0m\u001b[0;34m,\u001b[0m \u001b[0mconstants\u001b[0m\u001b[0;34m)\u001b[0m\u001b[0;34m\u001b[0m\u001b[0;34m\u001b[0m\u001b[0m\n\u001b[0m\u001b[1;32m     23\u001b[0m \u001b[0;34m\u001b[0m\u001b[0m\n\u001b[1;32m     24\u001b[0m \u001b[0;31m# Plotting the circles\u001b[0m\u001b[0;34m\u001b[0m\u001b[0;34m\u001b[0m\u001b[0m\n",
      "\u001b[0;32m/tmp/ipykernel_2397/978896060.py\u001b[0m in \u001b[0;36mgerschgorin_circles\u001b[0;34m(coefficients, constants)\u001b[0m\n\u001b[1;32m      4\u001b[0m \u001b[0;32mdef\u001b[0m \u001b[0mgerschgorin_circles\u001b[0m\u001b[0;34m(\u001b[0m\u001b[0mcoefficients\u001b[0m\u001b[0;34m,\u001b[0m \u001b[0mconstants\u001b[0m\u001b[0;34m)\u001b[0m\u001b[0;34m:\u001b[0m\u001b[0;34m\u001b[0m\u001b[0;34m\u001b[0m\u001b[0m\n\u001b[1;32m      5\u001b[0m     \u001b[0mn\u001b[0m \u001b[0;34m=\u001b[0m \u001b[0mlen\u001b[0m\u001b[0;34m(\u001b[0m\u001b[0mcoefficients\u001b[0m\u001b[0;34m)\u001b[0m  \u001b[0;31m# Get the number of equations\u001b[0m\u001b[0;34m\u001b[0m\u001b[0;34m\u001b[0m\u001b[0m\n\u001b[0;32m----> 6\u001b[0;31m     \u001b[0mmatrix\u001b[0m \u001b[0;34m=\u001b[0m \u001b[0mnp\u001b[0m\u001b[0;34m.\u001b[0m\u001b[0mcolumn_stack\u001b[0m\u001b[0;34m(\u001b[0m\u001b[0;34m(\u001b[0m\u001b[0mcoefficients\u001b[0m\u001b[0;34m,\u001b[0m \u001b[0;34m-\u001b[0m\u001b[0mconstants\u001b[0m\u001b[0;34m)\u001b[0m\u001b[0;34m)\u001b[0m  \u001b[0;31m# Convert equations to matrix form\u001b[0m\u001b[0;34m\u001b[0m\u001b[0;34m\u001b[0m\u001b[0m\n\u001b[0m\u001b[1;32m      7\u001b[0m \u001b[0;34m\u001b[0m\u001b[0m\n\u001b[1;32m      8\u001b[0m     \u001b[0mcircles\u001b[0m \u001b[0;34m=\u001b[0m \u001b[0;34m[\u001b[0m\u001b[0;34m]\u001b[0m  \u001b[0;31m# List to store the circle parameters\u001b[0m\u001b[0;34m\u001b[0m\u001b[0;34m\u001b[0m\u001b[0m\n",
      "\u001b[0;31mTypeError\u001b[0m: bad operand type for unary -: 'list'"
     ]
    }
   ],
   "source": [
    "import numpy as np\n",
    "import matplotlib.pyplot as plt\n",
    "\n",
    "def gerschgorin_circles(coefficients, constants):\n",
    "    n = len(coefficients)  # Get the number of equations\n",
    "    matrix = np.column_stack((coefficients, -constants))  # Convert equations to matrix form\n",
    "\n",
    "    circles = []  # List to store the circle parameters\n",
    "\n",
    "    for i in range(n):\n",
    "        center = matrix[i, i]  # Center of the circle is the diagonal element\n",
    "        radius = np.sum(np.abs(matrix[i, :])) - np.abs(matrix[i, i])  # Radius calculation\n",
    "\n",
    "        circles.append((center, radius))  # Add the circle parameters to the list\n",
    "\n",
    "    return circles\n",
    "\n",
    "# Example usage\n",
    "equations = [[2, -1, 1], [3, 2, -4], [1, 3, -5]]\n",
    "constants = [4, 3, 1]\n",
    "\n",
    "circles = gerschgorin_circles(equations, constants)\n",
    "\n",
    "# Plotting the circles\n",
    "fig, ax = plt.subplots()\n",
    "ax.set_aspect('equal')\n",
    "for center, radius in circles:\n",
    "    circle = plt.Circle((center.real, center.imag), radius, color='b', fill=False)\n",
    "    ax.add_artist(circle)\n",
    "\n",
    "# Setting plot limits\n",
    "xmin = np.min(np.array(equations).real) - np.max(np.abs(np.array(equations).imag))\n",
    "xmax = np.max(np.array(equations).real) + np.max(np.abs(np.array(equations).imag))\n",
    "ymin = np.min(np.array(equations).imag) - np.max(np.abs(np.array(equations).real))\n",
    "ymax = np.max(np.array(equations).imag) + np.max(np.abs(np.array(equations).real))\n",
    "ax.set_xlim(xmin, xmax)\n",
    "ax.set_ylim(ymin, ymax)\n",
    "\n",
    "# Displaying the plot\n",
    "plt.xlabel('Real')\n",
    "plt.ylabel('Imaginary')\n",
    "plt.title('Gerschgorin Circles')\n",
    "plt.grid(True)\n",
    "plt.show()\n"
   ]
  },
  {
   "cell_type": "code",
   "execution_count": 1,
   "id": "19b9b3ea",
   "metadata": {},
   "outputs": [
    {
     "data": {
      "image/png": "[encoded data removed]",
      "text/plain": [
       "<Figure size 432x288 with 1 Axes>"
      ]
     },
     "metadata": {
      "needs_background": "light"
     },
     "output_type": "display_data"
    }
   ],
   "source": [
    "import numpy as np\n",
    "import matplotlib.pyplot as plt\n",
    "\n",
    "def draw_gershgorin_circle(matrix):\n",
    "    eigenvalues = np.linalg.eigvals(matrix)\n",
    "    center = np.diag(matrix)\n",
    "    radii = np.sum(np.abs(matrix - np.diag(center)), axis=1)\n",
    "    \n",
    "    fig, ax = plt.subplots()\n",
    "    ax.set_aspect('equal')\n",
    "    \n",
    "    for i in range(len(center)):\n",
    "        circle = plt.Circle((center[i].real, center[i].imag), radii[i], fill=False)\n",
    "        ax.add_artist(circle)\n",
    "    \n",
    "    ax.axhline(0, color='black', linestyle='--', linewidth=0.5)\n",
    "    ax.axvline(0, color='black', linestyle='--', linewidth=0.5)\n",
    "    ax.set_xlabel('Real')\n",
    "    ax.set_ylabel('Imaginary')\n",
    "    ax.set_title('Gershgorin Circles')\n",
    "    ax.scatter(eigenvalues.real, eigenvalues.imag, color='red', label='Eigenvalues')\n",
    "    ax.legend()\n",
    "    \n",
    "    plt.show()\n",
    "\n",
    "# Example usage\n",
    "matrix = np.array([[0,13,1,-10,-170],\n",
    "[1,0,0,0,0],\n",
    "[0,1,0,0,0],\n",
    "[0,0,1,0,0],\n",
    "[0,0,0,1,0]])\n",
    "draw_gershgorin_circle(matrix)\n"
   ]
  },
  {
   "cell_type": "markdown",
   "id": "b5aea169",
   "metadata": {},
   "source": [
    "This code defines a function draw_gershgorin_circle(matrix) that takes a square matrix as input and plots the Gershgorin circles along with the eigenvalues of the matrix. The function first calculates the eigenvalues of the matrix using np.linalg.eigvals(). Then, it computes the centers and radii of the Gershgorin circles based on the matrix elements. Finally, it creates a plot using Matplotlib, adds the Gershgorin circles as Circle objects, plots the eigenvalues as red dots, and displays the plot.\n",
    "\n",
    "You can adjust the matrix variable to input your own square matrix and observe the corresponding Gershgorin circles."
   ]
  },
  {
   "cell_type": "code",
   "execution_count": 3,
   "id": "b1b386e2",
   "metadata": {},
   "outputs": [
    {
     "name": "stdout",
     "output_type": "stream",
     "text": [
      "1\n",
      "2\n"
     ]
    }
   ],
   "source": [
    "for i in range(1,3): print(i)"
   ]
  },
  {
   "cell_type": "code",
   "execution_count": null,
   "id": "0bf5cd7e",
   "metadata": {},
   "outputs": [],
   "source": []
  }
 ],
 "metadata": {
  "kernelspec": {
   "display_name": "Python 3 (ipykernel)",
   "language": "python",
   "name": "python3"
  },
  "language_info": {
   "codemirror_mode": {
    "name": "ipython",
    "version": 3
   },
   "file_extension": ".py",
   "mimetype": "text/x-python",
   "name": "python",
   "nbconvert_exporter": "python",
   "pygments_lexer": "ipython3",
   "version": "3.10.6"
  }
 },
 "nbformat": 4,
 "nbformat_minor": 5
}
