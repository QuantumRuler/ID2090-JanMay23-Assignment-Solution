{
 "cells": [
  {
   "cell_type": "code",
   "execution_count": 3,
   "id": "37e4e4a0",
   "metadata": {},
   "outputs": [
    {
     "data": {
      "text/plain": [
       "[[19, 41],\n",
       " [21, 90],\n",
       " [98, 39],\n",
       " [36, 59],\n",
       " [56, 23],\n",
       " [56, 80],\n",
       " [1, 3],\n",
       " [100, 31],\n",
       " [38, 14],\n",
       " [88, 50],\n",
       " [45, 57],\n",
       " [29, 96],\n",
       " [78, 94],\n",
       " [63, 85],\n",
       " [74, 60],\n",
       " [90, 69],\n",
       " [89, 18],\n",
       " [48, 28],\n",
       " [78, 14],\n",
       " [32, 100]]"
      ]
     },
     "execution_count": 3,
     "metadata": {},
     "output_type": "execute_result"
    }
   ],
   "source": [
    "s = [[randint(1, 100),randint(1,100)] for i in range(20)]; s "
   ]
  },
  {
   "cell_type": "code",
   "execution_count": null,
   "id": "db414c9f",
   "metadata": {},
   "outputs": [],
   "source": []
  }
 ],
 "metadata": {
  "kernelspec": {
   "display_name": "SageMath 9.5",
   "language": "sage",
   "name": "sagemath"
  },
  "language_info": {
   "codemirror_mode": {
    "name": "ipython",
    "version": 3
   },
   "file_extension": ".py",
   "mimetype": "text/x-python",
   "name": "python",
   "nbconvert_exporter": "python",
   "pygments_lexer": "ipython3",
   "version": "3.10.6"
  }
 },
 "nbformat": 4,
 "nbformat_minor": 5
}
