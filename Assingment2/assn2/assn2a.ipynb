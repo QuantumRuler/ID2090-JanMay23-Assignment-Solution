{
 "cells": [
  {
   "cell_type": "markdown",
   "id": "3c5851f0",
   "metadata": {},
   "source": [
    "## [Q1, 4 marks]\n",
    "Write a script that takes two arguments – the first being either “pi” or “e” and the \n",
    "second being an integer between 1 and 200. If the first argument is x and second argument is n then \n",
    "your script is expected to display the nth digit of x after the decimal point. The script should display\n",
    "a message if n is outside the range and exit elegantly. If the number of arguments is less than 2, then\n",
    "too the script should display an appropriate message and exit properly."
   ]
  },
  {
   "cell_type": "markdown",
   "id": "e081d291",
   "metadata": {},
   "source": [
    "We first take 2 inputs and check whether the are 2 arguments or not. If no then exit.\n",
    "Then we check that is second argument less then equal to 200.\n",
    "\n",
    "Now we invoke sage. First we define a Data Type with 669 bits and get the $\\pi$ and $e$ value upto 200 digits.\n",
    "Here 669 is chosen(By reducing the value starting from 1000 and then putting wc instead of cut) in order to get only the value upto 200 digit after decimal.\n",
    "\n",
    "Then you it charater wise to get the required output.\n"
   ]
  },
  {
   "cell_type": "code",
   "execution_count": null,
   "id": "79eeaaa3",
   "metadata": {},
   "outputs": [],
   "source": [
    "#!/usr/bin/bash\n",
    "#ae22b062\n",
    "c=`expr $2 + 2`\n",
    "if [ $# -eq 2 -a $c -lt 203 ]\n",
    "then\n",
    "\tsage -c \"R= RealField(669);a=R($1);print(a)\" | cut -b $c\n",
    "else \n",
    "\techo \"Give Proper input\"\n",
    "\texit\n",
    "fi \n"
   ]
  }
 ],
 "metadata": {
  "kernelspec": {
   "display_name": "SageMath 9.5",
   "language": "sage",
   "name": "sagemath"
  },
  "language_info": {
   "codemirror_mode": {
    "name": "ipython",
    "version": 3
   },
   "file_extension": ".py",
   "mimetype": "text/x-python",
   "name": "python",
   "nbconvert_exporter": "python",
   "pygments_lexer": "ipython3",
   "version": "3.10.6"
  }
 },
 "nbformat": 4,
 "nbformat_minor": 5
}
